{
 "cells": [
  {
   "cell_type": "code",
   "execution_count": 25,
   "metadata": {},
   "outputs": [],
   "source": [
    "from models.neural_nets import FeedForwardNN, PolynomialNN\n",
    "from models.pi_nets import CCP\n",
    "from data.polynomials import PolynomialGenerator\n",
    "import pytorch_lightning as pl\n",
    "%reload_ext autoreload\n",
    "%autoreload 2"
   ]
  },
  {
   "cell_type": "code",
   "execution_count": 26,
   "metadata": {},
   "outputs": [],
   "source": [
    "polynomial = lambda x: 2*x**3 + 3*x**2 + 5*x\n",
    "polyname = '2x3+3x2+5x'\n",
    "#model = CCP(1, 64, 4, 1)\n",
    "#model = FeedForwardNN(1, [64, 32, 16], 1)\n",
    "model = PolynomialNN(1, [64, 64, 64], 1, 2)"
   ]
  },
  {
   "cell_type": "code",
   "execution_count": 31,
   "metadata": {},
   "outputs": [
    {
     "name": "stdout",
     "output_type": "stream",
     "text": [
      "('weight', Parameter containing:\n",
      "tensor([[-0.0413],\n",
      "        [-0.6674],\n",
      "        [ 0.3553],\n",
      "        [-0.2116],\n",
      "        [-0.1008],\n",
      "        [-0.8696],\n",
      "        [-0.2888],\n",
      "        [-0.6751],\n",
      "        [ 0.4219],\n",
      "        [-0.4424],\n",
      "        [ 0.3725],\n",
      "        [ 0.1315],\n",
      "        [ 0.7560],\n",
      "        [ 0.2472],\n",
      "        [ 0.5759],\n",
      "        [ 0.5845],\n",
      "        [-0.2892],\n",
      "        [-0.9721],\n",
      "        [ 0.3317],\n",
      "        [ 0.4441],\n",
      "        [-0.7517],\n",
      "        [ 0.6697],\n",
      "        [-0.8145],\n",
      "        [ 0.3598],\n",
      "        [-0.6004],\n",
      "        [-0.2565],\n",
      "        [-0.0158],\n",
      "        [ 0.4451],\n",
      "        [ 0.2630],\n",
      "        [ 0.6404],\n",
      "        [-0.0079],\n",
      "        [-0.7240],\n",
      "        [ 0.1501],\n",
      "        [-0.9428],\n",
      "        [-0.7677],\n",
      "        [-0.0021],\n",
      "        [ 0.0040],\n",
      "        [ 0.0706],\n",
      "        [ 0.8147],\n",
      "        [ 0.2453],\n",
      "        [ 0.8265],\n",
      "        [-0.7250],\n",
      "        [-0.0299],\n",
      "        [-0.4045],\n",
      "        [ 0.3315],\n",
      "        [-0.4929],\n",
      "        [ 0.4393],\n",
      "        [ 0.8061],\n",
      "        [-0.4149],\n",
      "        [ 0.3572],\n",
      "        [-0.1939],\n",
      "        [ 0.7062],\n",
      "        [ 0.4228],\n",
      "        [-0.1912],\n",
      "        [ 0.0759],\n",
      "        [-0.1062],\n",
      "        [ 0.3177],\n",
      "        [ 0.7810],\n",
      "        [-0.1567],\n",
      "        [-0.1373],\n",
      "        [-0.0869],\n",
      "        [ 0.1621],\n",
      "        [-0.6860],\n",
      "        [-0.9011]], requires_grad=True))\n",
      "('bias', Parameter containing:\n",
      "tensor([-0.6575, -0.5986, -0.1542, -0.5287, -0.3996,  0.0580, -0.2850,  0.3457,\n",
      "        -0.8157, -0.6240,  0.9409, -0.8729, -0.6858, -0.2164,  0.7163, -0.9075,\n",
      "         0.6097, -0.9538,  0.6792, -0.6470,  0.4963, -0.3271,  0.8471, -0.9276,\n",
      "         0.2445,  0.5733, -0.8716, -0.5343, -0.4416, -0.4446,  0.2454,  0.7529,\n",
      "         0.7925, -0.0178, -0.6174,  0.4757, -0.2021,  0.7766,  0.4870,  0.2471,\n",
      "        -0.1535,  0.9521, -0.0108, -0.5309, -0.6380,  0.4361,  0.9198, -0.7321,\n",
      "        -0.1947,  0.8954, -0.8322,  0.5052, -0.5265,  0.7498,  0.7698, -0.7246,\n",
      "        -0.2484,  0.0057, -0.6663, -0.3523, -0.9010,  0.1956, -0.4270, -0.4074],\n",
      "       requires_grad=True))\n"
     ]
    }
   ],
   "source": [
    "for x in model.layers[0].named_parameters():\n",
    "    print(x)"
   ]
  },
  {
   "cell_type": "code",
   "execution_count": 22,
   "metadata": {},
   "outputs": [
    {
     "name": "stderr",
     "output_type": "stream",
     "text": [
      "GPU available: False, used: False\n",
      "TPU available: False, using: 0 TPU cores\n",
      "IPU available: False, using: 0 IPUs\n",
      "HPU available: False, using: 0 HPUs\n",
      "\n",
      "  | Name   | Type       | Params\n",
      "--------------------------------------\n",
      "0 | layers | Sequential | 8.5 K \n",
      "1 | loss   | MSELoss    | 0     \n",
      "--------------------------------------\n",
      "8.5 K     Trainable params\n",
      "0         Non-trainable params\n",
      "8.5 K     Total params\n",
      "0.034     Total estimated model params size (MB)\n"
     ]
    },
    {
     "name": "stdout",
     "output_type": "stream",
     "text": [
      "Epoch 29: 100%|██████████| 689/689 [00:24<00:00, 27.73it/s, loss=0.033, v_num=0] "
     ]
    },
    {
     "name": "stderr",
     "output_type": "stream",
     "text": [
      "`Trainer.fit` stopped: `max_epochs=30` reached.\n"
     ]
    },
    {
     "name": "stdout",
     "output_type": "stream",
     "text": [
      "Epoch 29: 100%|██████████| 689/689 [00:24<00:00, 27.69it/s, loss=0.033, v_num=0]\n"
     ]
    }
   ],
   "source": [
    "dataloader = PolynomialGenerator(polynomial, 100000)\n",
    "logger = pl.loggers.TensorBoardLogger(\"tb_logs\", name=f\"{type(model).__name__}/{polyname}\")\n",
    "trainer = pl.Trainer(limit_train_batches=64,max_epochs=30, log_every_n_steps=25, logger=logger)\n",
    "trainer.fit(model=model, datamodule=dataloader)"
   ]
  },
  {
   "cell_type": "code",
   "execution_count": null,
   "metadata": {},
   "outputs": [],
   "source": []
  }
 ],
 "metadata": {
  "kernelspec": {
   "display_name": "thesis",
   "language": "python",
   "name": "python3"
  },
  "language_info": {
   "codemirror_mode": {
    "name": "ipython",
    "version": 3
   },
   "file_extension": ".py",
   "mimetype": "text/x-python",
   "name": "python",
   "nbconvert_exporter": "python",
   "pygments_lexer": "ipython3",
   "version": "3.7.12"
  },
  "orig_nbformat": 4,
  "vscode": {
   "interpreter": {
    "hash": "57d76fe05cb7c37a863d6372044d97df71b0a64adb22d17c6b0cbfe5bbdb8127"
   }
  }
 },
 "nbformat": 4,
 "nbformat_minor": 2
}
