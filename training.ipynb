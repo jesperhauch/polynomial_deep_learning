{
 "cells": [
  {
   "cell_type": "code",
   "execution_count": 1,
   "metadata": {},
   "outputs": [
    {
     "name": "stderr",
     "output_type": "stream",
     "text": [
      "c:\\Users\\Bruger\\miniconda3\\envs\\thesis\\lib\\site-packages\\tqdm\\auto.py:22: TqdmWarning: IProgress not found. Please update jupyter and ipywidgets. See https://ipywidgets.readthedocs.io/en/stable/user_install.html\n",
      "  from .autonotebook import tqdm as notebook_tqdm\n"
     ]
    }
   ],
   "source": [
    "from models.neural_nets import FeedForwardNN, PolynomialNN, PolynomialNN_relu\n",
    "from models.pi_nets import CCP, CCP_relu, CCP_relu_poly\n",
    "from data.polynomials import PolynomialGenerator\n",
    "import pytorch_lightning as pl\n",
    "import torch\n",
    "%reload_ext autoreload\n",
    "%autoreload 2"
   ]
  },
  {
   "cell_type": "code",
   "execution_count": 2,
   "metadata": {},
   "outputs": [],
   "source": [
    "polynomial = lambda x, y: 5*x**2 + 6*y**2\n",
    "polyname = '5x2+6y2_noise'\n",
    "in_dim = polynomial.__code__.co_argcount\n",
    "from torch.distributions.normal import Normal\n",
    "dataloader = PolynomialGenerator(polynomial, 100000, in_dim, Normal(0,5), Normal(0,1))\n",
    "experiment_name = \"two_variable\"\n",
    "\n",
    "#model = CCP(in_dim, 64, 5, 1)\n",
    "#model = CCP_relu(2, 64, 5, 1)\n",
    "#model = CCP_relu_poly(in_dim, 64, 2, 1)\n",
    "#model = FeedForwardNN(in_dim, [64, 32, 16], 1)\n",
    "model = PolynomialNN(in_dim, [64], 1, 2)\n",
    "#model = PolynomialNN_relu(in_dim, [64,64,64], 1, 2)"
   ]
  },
  {
   "cell_type": "code",
   "execution_count": 8,
   "metadata": {},
   "outputs": [],
   "source": [
    "lambda_t = 'lambda x, y: x**2+3*y'\n",
    "l = eval(lambda_t, globals())"
   ]
  },
  {
   "cell_type": "code",
   "execution_count": 9,
   "metadata": {},
   "outputs": [
    {
     "data": {
      "text/plain": [
       "34"
      ]
     },
     "execution_count": 9,
     "metadata": {},
     "output_type": "execute_result"
    },
    {
     "ename": "",
     "evalue": "",
     "output_type": "error",
     "traceback": [
      "\u001b[1;31mThe Kernel crashed while executing code in the the current cell or a previous cell. Please review the code in the cell(s) to identify a possible cause of the failure. Click <a href='https://aka.ms/vscodeJupyterKernelCrash'>here</a> for more info. View Jupyter <a href='command:jupyter.viewOutput'>log</a> for further details."
     ]
    }
   ],
   "source": [
    "l(5,3)"
   ]
  },
  {
   "cell_type": "code",
   "execution_count": 6,
   "metadata": {},
   "outputs": [
    {
     "name": "stderr",
     "output_type": "stream",
     "text": [
      "GPU available: False, used: False\n",
      "TPU available: False, using: 0 TPU cores\n",
      "IPU available: False, using: 0 IPUs\n",
      "HPU available: False, using: 0 HPUs\n",
      "\n",
      "  | Name   | Type       | Params\n",
      "--------------------------------------\n",
      "0 | layers | Sequential | 257   \n",
      "1 | loss   | MSELoss    | 0     \n",
      "--------------------------------------\n",
      "257       Trainable params\n",
      "0         Non-trainable params\n",
      "257       Total params\n",
      "0.001     Total estimated model params size (MB)\n"
     ]
    },
    {
     "name": "stdout",
     "output_type": "stream",
     "text": [
      "                                                                           "
     ]
    },
    {
     "name": "stderr",
     "output_type": "stream",
     "text": [
      "c:\\Users\\Bruger\\miniconda3\\envs\\thesis\\lib\\site-packages\\torch\\nn\\modules\\loss.py:536: UserWarning: Using a target size (torch.Size([32, 1])) that is different to the input size (torch.Size([32])). This will likely lead to incorrect results due to broadcasting. Please ensure they have the same size.\n",
      "  return F.mse_loss(input, target, reduction=self.reduction)\n"
     ]
    },
    {
     "name": "stdout",
     "output_type": "stream",
     "text": [
      "Epoch 0:  63%|██████▎   | 431/689 [00:16<00:09, 26.82it/s, loss=1.32e+05, v_num=0]"
     ]
    },
    {
     "name": "stderr",
     "output_type": "stream",
     "text": [
      "c:\\Users\\Bruger\\miniconda3\\envs\\thesis\\lib\\site-packages\\pytorch_lightning\\trainer\\call.py:48: UserWarning: Detected KeyboardInterrupt, attempting graceful shutdown...\n",
      "  rank_zero_warn(\"Detected KeyboardInterrupt, attempting graceful shutdown...\")\n"
     ]
    }
   ],
   "source": [
    "logger = pl.loggers.TensorBoardLogger(\"tb_logs\", name=f\"{experiment_name + '/' + type(model).__name__}/{polyname}\")\n",
    "logger.log_hyperparams({\"data_dist\": str(dataloader.data_dist), \"noise\": str(dataloader.noise)})\n",
    "trainer = pl.Trainer(limit_train_batches=64,max_epochs=30, log_every_n_steps=25, logger=logger)\n",
    "trainer.fit(model=model, datamodule=dataloader)\n",
    "trainer.logger.finalize(\"success\")\n",
    "trainer.logger.save()"
   ]
  },
  {
   "cell_type": "code",
   "execution_count": null,
   "metadata": {},
   "outputs": [],
   "source": []
  }
 ],
 "metadata": {
  "kernelspec": {
   "display_name": "thesis",
   "language": "python",
   "name": "python3"
  },
  "language_info": {
   "codemirror_mode": {
    "name": "ipython",
    "version": 3
   },
   "file_extension": ".py",
   "mimetype": "text/x-python",
   "name": "python",
   "nbconvert_exporter": "python",
   "pygments_lexer": "ipython3",
   "version": "3.7.12"
  },
  "orig_nbformat": 4,
  "vscode": {
   "interpreter": {
    "hash": "57d76fe05cb7c37a863d6372044d97df71b0a64adb22d17c6b0cbfe5bbdb8127"
   }
  }
 },
 "nbformat": 4,
 "nbformat_minor": 2
}
