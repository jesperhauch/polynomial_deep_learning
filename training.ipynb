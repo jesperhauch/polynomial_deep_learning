{
 "cells": [
  {
   "cell_type": "code",
   "execution_count": 1,
   "metadata": {},
   "outputs": [
    {
     "name": "stderr",
     "output_type": "stream",
     "text": [
      "c:\\Users\\Bruger\\miniconda3\\envs\\thesis\\lib\\site-packages\\tqdm\\auto.py:22: TqdmWarning: IProgress not found. Please update jupyter and ipywidgets. See https://ipywidgets.readthedocs.io/en/stable/user_install.html\n",
      "  from .autonotebook import tqdm as notebook_tqdm\n"
     ]
    }
   ],
   "source": [
    "from models.neural_nets import FeedForwardNN, PolynomialNN\n",
    "from models.pi_nets import CCP\n",
    "from data.polynomials import PolynomialGenerator\n",
    "import pytorch_lightning as pl\n",
    "%reload_ext autoreload\n",
    "%autoreload 2"
   ]
  },
  {
   "cell_type": "code",
   "execution_count": 2,
   "metadata": {},
   "outputs": [],
   "source": [
    "dataloader = PolynomialGenerator(lambda x: x**3 + 3*x**2 + 5*x, 100000)\n",
    "polyname = 'x3+3x2+5x'\n",
    "#model = FeedForwardNN(1, [500, 250, 125], 1)\n",
    "model = PolynomialNN(1, [64], 1)\n",
    "#model = CCP(1, 64, 3, 1)"
   ]
  },
  {
   "cell_type": "code",
   "execution_count": 3,
   "metadata": {},
   "outputs": [
    {
     "name": "stderr",
     "output_type": "stream",
     "text": [
      "GPU available: False, used: False\n",
      "TPU available: False, using: 0 TPU cores\n",
      "IPU available: False, using: 0 IPUs\n",
      "HPU available: False, using: 0 HPUs\n",
      "\n",
      "  | Name   | Type       | Params\n",
      "--------------------------------------\n",
      "0 | layers | Sequential | 193   \n",
      "1 | loss   | MSELoss    | 0     \n",
      "--------------------------------------\n",
      "193       Trainable params\n",
      "0         Non-trainable params\n",
      "193       Total params\n",
      "0.001     Total estimated model params size (MB)\n"
     ]
    },
    {
     "name": "stdout",
     "output_type": "stream",
     "text": [
      "Epoch 17:   9%|▉         | 64/689 [00:06<01:06,  9.36it/s, loss=27.3, v_num=0] "
     ]
    }
   ],
   "source": [
    "logger = pl.loggers.TensorBoardLogger(\"tb_logs\", name=f\"{type(model).__name__}/{polyname}\")\n",
    "trainer = pl.Trainer(limit_train_batches=64,max_epochs=30, log_every_n_steps=25, logger=logger)\n",
    "trainer.fit(model=model, datamodule=dataloader)"
   ]
  },
  {
   "cell_type": "code",
   "execution_count": null,
   "metadata": {},
   "outputs": [],
   "source": []
  }
 ],
 "metadata": {
  "kernelspec": {
   "display_name": "thesis",
   "language": "python",
   "name": "python3"
  },
  "language_info": {
   "codemirror_mode": {
    "name": "ipython",
    "version": 3
   },
   "file_extension": ".py",
   "mimetype": "text/x-python",
   "name": "python",
   "nbconvert_exporter": "python",
   "pygments_lexer": "ipython3",
   "version": "3.7.12"
  },
  "orig_nbformat": 4,
  "vscode": {
   "interpreter": {
    "hash": "57d76fe05cb7c37a863d6372044d97df71b0a64adb22d17c6b0cbfe5bbdb8127"
   }
  }
 },
 "nbformat": 4,
 "nbformat_minor": 2
}
