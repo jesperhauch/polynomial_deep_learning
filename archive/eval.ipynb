{
 "cells": [
  {
   "cell_type": "code",
   "execution_count": 6,
   "metadata": {},
   "outputs": [],
   "source": [
    "import torch\n",
    "import pytorch_lightning as pl\n",
    "from models.pi_nets import CCP, CCP_relu, CCP_relu_poly\n",
    "from models.neural_nets import FeedForwardNN, PolynomialNN, PolynomialNN_relu\n",
    "from data.polynomials import PolynomialGenerator\n",
    "import pandas as pd\n",
    "import matplotlib.pyplot as plt\n",
    "import numpy as np\n",
    "from sklearn.metrics import r2_score\n",
    "import torch.distributions as dist\n",
    "from utils import model_utils\n",
    "%load_ext autoreload\n",
    "%autoreload 2"
   ]
  },
  {
   "attachments": {},
   "cell_type": "markdown",
   "metadata": {},
   "source": [
    "# Model Performance"
   ]
  },
  {
   "cell_type": "code",
   "execution_count": 7,
   "metadata": {},
   "outputs": [
    {
     "name": "stderr",
     "output_type": "stream",
     "text": [
      "Lightning automatically upgraded your loaded checkpoint from v1.9.0 to v2.0.0. To apply the upgrade to your files permanently, run `python -m pytorch_lightning.utilities.upgrade_checkpoint --file c:\\Users\\Bruger\\Documents\\Thesis-Code\\tb_logs\\2a3_times_6b2\\CCP_relu\\version_0\\checkpoints\\epoch=49-step=3200.ckpt`\n"
     ]
    }
   ],
   "source": [
    "checkpoint = r\"tb_logs\\2a3_times_6b2\\CCP_relu\\version_0\\checkpoints\\epoch=49-step=3200.ckpt\"\n",
    "model = CCP_relu.load_from_checkpoint(checkpoint)\n",
    "polynomial = lambda a,b: 2*a**3*6*b**2"
   ]
  },
  {
   "cell_type": "code",
   "execution_count": 8,
   "metadata": {},
   "outputs": [
    {
     "data": {
      "text/plain": [
       "1025"
      ]
     },
     "execution_count": 8,
     "metadata": {},
     "output_type": "execute_result"
    }
   ],
   "source": [
    "model_utils.count_parameters(model)"
   ]
  },
  {
   "cell_type": "code",
   "execution_count": 82,
   "metadata": {},
   "outputs": [
    {
     "data": {
      "text/plain": [
       "{'bias': True,\n",
       " 'data_dist': 'Normal(loc: 0.0, scale: 1.0)',\n",
       " 'hidden_size': 64,\n",
       " 'input_size': 2,\n",
       " 'n_degree': 2,\n",
       " 'noise': 'Normal(loc: 0.0, scale: 1.0)',\n",
       " 'output_size': 1}"
      ]
     },
     "execution_count": 82,
     "metadata": {},
     "output_type": "execute_result"
    }
   ],
   "source": [
    "import yaml\n",
    "import io\n",
    "with io.open(r'tb_logs\\two_variable_noise\\CCP\\5x2+6y2\\normal(0,1)\\hparams.yaml', \"r\") as f:\n",
    "    data = yaml.safe_load(f)\n",
    "data"
   ]
  },
  {
   "cell_type": "code",
   "execution_count": 11,
   "metadata": {},
   "outputs": [],
   "source": [
    "n_features = polynomial.__code__.co_argcount\n",
    "#dataloader = PolynomialGenerator(polynomial, 100000, n_features, dist.normal.Normal(0,5))\n",
    "#dataloader.setup(\"fit\")\n",
    "#train_dataloader = dataloader.train_dataloader()\n"
   ]
  },
  {
   "cell_type": "code",
   "execution_count": 20,
   "metadata": {},
   "outputs": [
    {
     "data": {
      "text/plain": [
       "tensor(-24.5346)"
      ]
     },
     "execution_count": 20,
     "metadata": {},
     "output_type": "execute_result"
    }
   ],
   "source": [
    "y[0]"
   ]
  },
  {
   "cell_type": "code",
   "execution_count": 17,
   "metadata": {},
   "outputs": [
    {
     "data": {
      "text/plain": [
       "tensor([-1.0199, -1.3883])"
      ]
     },
     "execution_count": 17,
     "metadata": {},
     "output_type": "execute_result"
    }
   ],
   "source": [
    "x[0]"
   ]
  },
  {
   "cell_type": "code",
   "execution_count": 19,
   "metadata": {},
   "outputs": [
    {
     "data": {
      "text/plain": [
       "-2.044746260784019"
      ]
     },
     "execution_count": 19,
     "metadata": {},
     "output_type": "execute_result"
    }
   ],
   "source": [
    "(-1.0199)**3*(-1.3883)**2"
   ]
  },
  {
   "cell_type": "code",
   "execution_count": 52,
   "metadata": {},
   "outputs": [],
   "source": [
    "test = torch.vmap(polynomial)"
   ]
  },
  {
   "cell_type": "code",
   "execution_count": 53,
   "metadata": {},
   "outputs": [],
   "source": [
    "x_test = x.permute(0,1)"
   ]
  },
  {
   "cell_type": "code",
   "execution_count": 56,
   "metadata": {},
   "outputs": [
    {
     "data": {
      "text/plain": [
       "tensor([-13.2398, -61.8905])"
      ]
     },
     "execution_count": 56,
     "metadata": {},
     "output_type": "execute_result"
    }
   ],
   "source": [
    "test(x_test[0,:], x_test[0,:])"
   ]
  },
  {
   "cell_type": "code",
   "execution_count": 26,
   "metadata": {},
   "outputs": [
    {
     "data": {
      "text/plain": [
       "torch.Size([2, 32])"
      ]
     },
     "execution_count": 26,
     "metadata": {},
     "output_type": "execute_result"
    }
   ],
   "source": [
    "x.permute(1,0).shape"
   ]
  },
  {
   "cell_type": "code",
   "execution_count": 32,
   "metadata": {},
   "outputs": [
    {
     "data": {
      "text/plain": [
       "tensor([  12,  384, 2916])"
      ]
     },
     "execution_count": 32,
     "metadata": {},
     "output_type": "execute_result"
    }
   ],
   "source": [
    "polynomial(*torch.tensor([[1, 2, 3], [1,2,3]]))"
   ]
  },
  {
   "cell_type": "code",
   "execution_count": 38,
   "metadata": {},
   "outputs": [
    {
     "ename": "SyntaxError",
     "evalue": "can't use starred expression here (1267907365.py, line 4)",
     "output_type": "error",
     "traceback": [
      "\u001b[1;36m  File \u001b[1;32m\"C:\\Users\\Bruger\\AppData\\Local\\Temp\\ipykernel_10728\\1267907365.py\"\u001b[1;36m, line \u001b[1;32m4\u001b[0m\n\u001b[1;31mSyntaxError\u001b[0m\u001b[1;31m:\u001b[0m can't use starred expression here\n"
     ]
    }
   ],
   "source": [
    "*x.permute(0,1)"
   ]
  },
  {
   "cell_type": "code",
   "execution_count": 28,
   "metadata": {},
   "outputs": [
    {
     "data": {
      "text/plain": [
       "torch.Size([32])"
      ]
     },
     "execution_count": 28,
     "metadata": {},
     "output_type": "execute_result"
    }
   ],
   "source": [
    "polynomial(*x.clone().permute(1,0)).shape"
   ]
  },
  {
   "cell_type": "code",
   "execution_count": 19,
   "metadata": {},
   "outputs": [],
   "source": [
    "scales = range(90, 100)\n",
    "means = range(0, 5)\n",
    "plot_dict = {'mu': [],\n",
    "             'sigma': [],\n",
    "             'r2': []}\n",
    "for mu in means:\n",
    "    for sigma in scales:\n",
    "        plot_dict['mu'].append(mu)\n",
    "        plot_dict['sigma'].append(sigma)\n",
    "        distribution = dist.normal.Normal(mu, sigma)\n",
    "        x = distribution.sample((25000,n_features))\n",
    "        y = polynomial(*x.clone().permute(1,0))\n",
    "        with torch.no_grad():\n",
    "            y_hat = model(x)\n",
    "            plot_dict['r2'].append(r2_score(y, y_hat))\n",
    "            \n",
    "df = pd.DataFrame(plot_dict)\n",
    "data = df.pivot(index=\"mu\", columns=\"sigma\", values=\"r2\")"
   ]
  },
  {
   "cell_type": "code",
   "execution_count": 20,
   "metadata": {},
   "outputs": [
    {
     "data": {
      "text/html": [
       "<div>\n",
       "<style scoped>\n",
       "    .dataframe tbody tr th:only-of-type {\n",
       "        vertical-align: middle;\n",
       "    }\n",
       "\n",
       "    .dataframe tbody tr th {\n",
       "        vertical-align: top;\n",
       "    }\n",
       "\n",
       "    .dataframe thead th {\n",
       "        text-align: right;\n",
       "    }\n",
       "</style>\n",
       "<table border=\"1\" class=\"dataframe\">\n",
       "  <thead>\n",
       "    <tr style=\"text-align: right;\">\n",
       "      <th>sigma</th>\n",
       "      <th>90</th>\n",
       "      <th>91</th>\n",
       "      <th>92</th>\n",
       "      <th>93</th>\n",
       "      <th>94</th>\n",
       "      <th>95</th>\n",
       "      <th>96</th>\n",
       "      <th>97</th>\n",
       "      <th>98</th>\n",
       "      <th>99</th>\n",
       "    </tr>\n",
       "    <tr>\n",
       "      <th>mu</th>\n",
       "      <th></th>\n",
       "      <th></th>\n",
       "      <th></th>\n",
       "      <th></th>\n",
       "      <th></th>\n",
       "      <th></th>\n",
       "      <th></th>\n",
       "      <th></th>\n",
       "      <th></th>\n",
       "      <th></th>\n",
       "    </tr>\n",
       "  </thead>\n",
       "  <tbody>\n",
       "    <tr>\n",
       "      <th>0</th>\n",
       "      <td>0.895252</td>\n",
       "      <td>0.899789</td>\n",
       "      <td>0.889713</td>\n",
       "      <td>0.896449</td>\n",
       "      <td>0.890145</td>\n",
       "      <td>0.888073</td>\n",
       "      <td>0.899572</td>\n",
       "      <td>0.892204</td>\n",
       "      <td>0.885890</td>\n",
       "      <td>0.902485</td>\n",
       "    </tr>\n",
       "    <tr>\n",
       "      <th>1</th>\n",
       "      <td>0.890843</td>\n",
       "      <td>0.903883</td>\n",
       "      <td>0.888790</td>\n",
       "      <td>0.885230</td>\n",
       "      <td>0.897573</td>\n",
       "      <td>0.882052</td>\n",
       "      <td>0.890398</td>\n",
       "      <td>0.905205</td>\n",
       "      <td>0.897598</td>\n",
       "      <td>0.859865</td>\n",
       "    </tr>\n",
       "    <tr>\n",
       "      <th>2</th>\n",
       "      <td>0.881039</td>\n",
       "      <td>0.889944</td>\n",
       "      <td>0.886296</td>\n",
       "      <td>0.897580</td>\n",
       "      <td>0.886569</td>\n",
       "      <td>0.895351</td>\n",
       "      <td>0.872168</td>\n",
       "      <td>0.890316</td>\n",
       "      <td>0.899445</td>\n",
       "      <td>0.893754</td>\n",
       "    </tr>\n",
       "    <tr>\n",
       "      <th>3</th>\n",
       "      <td>0.898813</td>\n",
       "      <td>0.884452</td>\n",
       "      <td>0.876099</td>\n",
       "      <td>0.888344</td>\n",
       "      <td>0.898314</td>\n",
       "      <td>0.903576</td>\n",
       "      <td>0.897698</td>\n",
       "      <td>0.887526</td>\n",
       "      <td>0.907487</td>\n",
       "      <td>0.883034</td>\n",
       "    </tr>\n",
       "    <tr>\n",
       "      <th>4</th>\n",
       "      <td>0.885316</td>\n",
       "      <td>0.898354</td>\n",
       "      <td>0.884837</td>\n",
       "      <td>0.900744</td>\n",
       "      <td>0.882773</td>\n",
       "      <td>0.900480</td>\n",
       "      <td>0.882430</td>\n",
       "      <td>0.893235</td>\n",
       "      <td>0.882878</td>\n",
       "      <td>0.885646</td>\n",
       "    </tr>\n",
       "  </tbody>\n",
       "</table>\n",
       "</div>"
      ],
      "text/plain": [
       "sigma        90        91        92        93        94        95        96  \\\n",
       "mu                                                                            \n",
       "0      0.895252  0.899789  0.889713  0.896449  0.890145  0.888073  0.899572   \n",
       "1      0.890843  0.903883  0.888790  0.885230  0.897573  0.882052  0.890398   \n",
       "2      0.881039  0.889944  0.886296  0.897580  0.886569  0.895351  0.872168   \n",
       "3      0.898813  0.884452  0.876099  0.888344  0.898314  0.903576  0.897698   \n",
       "4      0.885316  0.898354  0.884837  0.900744  0.882773  0.900480  0.882430   \n",
       "\n",
       "sigma        97        98        99  \n",
       "mu                                   \n",
       "0      0.892204  0.885890  0.902485  \n",
       "1      0.905205  0.897598  0.859865  \n",
       "2      0.890316  0.899445  0.893754  \n",
       "3      0.887526  0.907487  0.883034  \n",
       "4      0.893235  0.882878  0.885646  "
      ]
     },
     "execution_count": 20,
     "metadata": {},
     "output_type": "execute_result"
    }
   ],
   "source": [
    "data"
   ]
  },
  {
   "cell_type": "code",
   "execution_count": 8,
   "metadata": {},
   "outputs": [
    {
     "name": "stderr",
     "output_type": "stream",
     "text": [
      "c:\\Users\\Bruger\\miniconda3\\envs\\thesis\\lib\\site-packages\\ipykernel_launcher.py:12: UserWarning: FixedFormatter should only be used together with FixedLocator\n",
      "  if sys.path[0] == \"\":\n",
      "c:\\Users\\Bruger\\miniconda3\\envs\\thesis\\lib\\site-packages\\ipykernel_launcher.py:13: UserWarning: FixedFormatter should only be used together with FixedLocator\n",
      "  del sys.path[0]\n"
     ]
    },
    {
     "data": {
      "image/png": "[encoded data removed]",
      "text/plain": [
       "<Figure size 640x480 with 1 Axes>"
      ]
     },
     "metadata": {},
     "output_type": "display_data"
    }
   ],
   "source": [
    "loc = 0\n",
    "scale = 1\n",
    "fig, ax = plt.subplots()\n",
    "ax.set_title(\"x^2 polynomial trained on Normal(0,1)\", fontsize=10)\n",
    "ax.grid(True, which=\"minor\")\n",
    "ax.imshow(data, alpha=0)\n",
    "\n",
    "ax.set_ylabel(\"loc\")\n",
    "ax.set_xlabel(\"scale\")\n",
    "ax.set_xticks(np.array(scales)-0.5, minor=True)\n",
    "ax.set_yticks(np.array(means)-0.5, minor=True)\n",
    "ax.set_yticklabels([''] + data.index.values.tolist())\n",
    "ax.set_xticklabels([''] + data.columns.values.tolist())\n",
    "\n",
    "for (i, j), z in np.ndenumerate(data):\n",
    "    ax.text(j, i, '{:0.3f}'.format(z), ha=\"center\", va=\"center\")\n",
    "\n",
    "#fig.suptitle(\"PolyNN R2 for shifting distributions\");\n",
    "fig.tight_layout()\n",
    "#fig.savefig(\"imgs/PolyNN_x2_test.png\", dpi=600, transparent=True)"
   ]
  },
  {
   "cell_type": "code",
   "execution_count": 17,
   "metadata": {},
   "outputs": [
    {
     "name": "stdout",
     "output_type": "stream",
     "text": [
      "R2: -0.0005516316404605703\n"
     ]
    },
    {
     "data": {
      "image/png": "[encoded data removed]",
      "text/plain": [
       "<Figure size 640x480 with 1 Axes>"
      ]
     },
     "metadata": {},
     "output_type": "display_data"
    }
   ],
   "source": [
    "dist = Normal(0, 1)\n",
    "x = dist.sample((10000,1))\n",
    "y = x.clone().apply_(polynomial)\n",
    "\n",
    "with torch.no_grad():\n",
    "    y_hat = model(x)\n",
    "    print(\"R2:\", r2_score(y, y_hat))\n",
    "\n",
    "indices = torch.argsort(x, dim=0).squeeze()\n",
    "plt.plot(x[indices], y[indices], label=\"true\")\n",
    "plt.plot(x[indices], y_hat[indices], label=\"pred\")\n",
    "plt.legend()\n",
    "plt.title(\"1/5x2 for Normal(0,1)\");"
   ]
  },
  {
   "cell_type": "code",
   "execution_count": 51,
   "metadata": {},
   "outputs": [
    {
     "name": "stdout",
     "output_type": "stream",
     "text": [
      "R2: -152870.5153965726\n"
     ]
    },
    {
     "data": {
      "image/png": "[encoded data removed]",
      "text/plain": [
       "<Figure size 640x480 with 1 Axes>"
      ]
     },
     "metadata": {},
     "output_type": "display_data"
    }
   ],
   "source": [
    "dist = Normal(10, 1)\n",
    "x = dist.sample((10000,1))\n",
    "y = x.clone().apply_(polynomial)\n",
    "\n",
    "with torch.no_grad():\n",
    "    y_hat = model(x)\n",
    "    print(\"R2:\", r2_score(y, y_hat))\n",
    "\n",
    "indices = torch.argsort(x, dim=0).squeeze()\n",
    "plt.plot(x[indices], y[indices], label=\"true\")\n",
    "plt.plot(x[indices], y_hat[indices], label=\"pred\")\n",
    "plt.legend()\n",
    "plt.title(\"x^2 for Normal(5,1)\");"
   ]
  },
  {
   "cell_type": "code",
   "execution_count": null,
   "metadata": {},
   "outputs": [],
   "source": [
    "logger = pl.loggers.TensorBoardLogger(\"tb_logs\", name=\"feedfoward_x2\")\n",
    "trainer = pl.Trainer(limit_train_batches=64,max_epochs=30, log_every_n_steps=25, logger=logger)\n",
    "trainer.test(model, dataloaders=dataloader)"
   ]
  }
 ],
 "metadata": {
  "kernelspec": {
   "display_name": "thesis",
   "language": "python",
   "name": "python3"
  },
  "language_info": {
   "codemirror_mode": {
    "name": "ipython",
    "version": 3
   },
   "file_extension": ".py",
   "mimetype": "text/x-python",
   "name": "python",
   "nbconvert_exporter": "python",
   "pygments_lexer": "ipython3",
   "version": "3.10.9"
  },
  "orig_nbformat": 4,
  "vscode": {
   "interpreter": {
    "hash": "57d76fe05cb7c37a863d6372044d97df71b0a64adb22d17c6b0cbfe5bbdb8127"
   }
  }
 },
 "nbformat": 4,
 "nbformat_minor": 2
}
