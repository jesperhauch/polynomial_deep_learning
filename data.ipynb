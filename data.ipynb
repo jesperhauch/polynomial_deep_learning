{
 "cells": [
  {
   "cell_type": "code",
   "execution_count": 52,
   "metadata": {},
   "outputs": [
    {
     "name": "stdout",
     "output_type": "stream",
     "text": [
      "The autoreload extension is already loaded. To reload it, use:\n",
      "  %reload_ext autoreload\n"
     ]
    }
   ],
   "source": [
    "from simulators.epidemiology import make_system, update_func, run_simulation\n",
    "from models.recurrent_nn import RNN\n",
    "from data.epidemiology import EpidemiologyDataset\n",
    "from torch.utils.data import DataLoader\n",
    "import pytorch_lightning as pl\n",
    "%load_ext autoreload\n",
    "%autoreload 2"
   ]
  },
  {
   "cell_type": "code",
   "execution_count": 2,
   "metadata": {},
   "outputs": [],
   "source": [
    "ds = EpidemiologyDataset(1/5, 1/8, 25)\n",
    "dataloader = DataLoader(ds, num_workers=4)"
   ]
  },
  {
   "cell_type": "code",
   "execution_count": 3,
   "metadata": {},
   "outputs": [],
   "source": [
    "for x, y in dataloader:\n",
    "    break"
   ]
  },
  {
   "cell_type": "code",
   "execution_count": 27,
   "metadata": {},
   "outputs": [],
   "source": [
    "s = x[0, :, 0]\n",
    "i = y[0, :]\n",
    "r = x[0, :, 1]\n",
    "beta = 1/5\n",
    "gamma = 1/8"
   ]
  },
  {
   "cell_type": "code",
   "execution_count": 28,
   "metadata": {},
   "outputs": [
    {
     "name": "stdout",
     "output_type": "stream",
     "text": [
      "s: tensor(0.8967)\n",
      "i: tensor(0.0924)\n",
      "r: tensor(0.0109)\n"
     ]
    }
   ],
   "source": [
    "print(\"s:\", s[0])\n",
    "print(\"i:\", i[0])\n",
    "print(\"r:\", r[0])"
   ]
  },
  {
   "attachments": {},
   "cell_type": "markdown",
   "metadata": {},
   "source": [
    "**KM Equations**:\n",
    "\\begin{align*}\n",
    "s_{i} &= s_{i-1} - \\beta\\,s_{i-1}\\,i_{i-1}\\\\\n",
    "i_{i} &= i_{i-1} + i_{i-1}(\\beta s_{i-1} - \\gamma)\\\\\n",
    "r_{i} &= r_{i-1} + \\gamma\\,i_{i-1}\n",
    "\\end{align*}"
   ]
  },
  {
   "attachments": {},
   "cell_type": "markdown",
   "metadata": {},
   "source": [
    "We can expand the KM equations to predict further out into the future (e.g. for two steps):\n",
    "\\begin{align*}\n",
    "s_i &= s_{i-2} - \\beta(s_{i-1}\\cdot i_{i-1} + s_{i-2}\\cdot i_{i-2})\\\\\n",
    "i_i &= i_{i-2} + [i_{i-1}(\\beta\\,s_{i-1}-\\gamma) + i_{i-2}(\\beta\\,s_{i-2}-\\gamma)]\\\\\n",
    "r_i &= r_{i-2} + \\gamma(i_{i-1} + i_{i-2})\n",
    "\\end{align*}"
   ]
  },
  {
   "cell_type": "code",
   "execution_count": 50,
   "metadata": {},
   "outputs": [
    {
     "name": "stdout",
     "output_type": "stream",
     "text": [
      "s[2]: 0.8629523515701294\n",
      "i[2]: 0.10239651054143906\n",
      "r[2]: 0.03465118631720543\n"
     ]
    }
   ],
   "source": [
    "print(\"s[2]:\", (s[0]-(beta*(s[1]*i[1]+s[0]*i[0])).item()).item())\n",
    "print(\"i[2]:\", (i[0]+((beta*s[1]*i[1]-gamma*i[1])+(beta*s[0]*i[0]-gamma*i[0]))).item())\n",
    "print(\"r[2]:\", (r[0]+gamma*(i[1]+i[0])).item())"
   ]
  },
  {
   "cell_type": "code",
   "execution_count": 51,
   "metadata": {},
   "outputs": [
    {
     "name": "stdout",
     "output_type": "stream",
     "text": [
      "True s[2]: 0.8629522919654846\n",
      "True i[2]: 0.10239650309085846\n",
      "True r[2]: 0.03465118631720543\n"
     ]
    }
   ],
   "source": [
    "print(\"True s[2]:\", s[2].item())\n",
    "print(\"True i[2]:\", i[2].item())\n",
    "print(\"True r[2]:\", r[2].item())"
   ]
  },
  {
   "cell_type": "code",
   "execution_count": null,
   "metadata": {},
   "outputs": [],
   "source": []
  }
 ],
 "metadata": {
  "kernelspec": {
   "display_name": "thesis",
   "language": "python",
   "name": "python3"
  },
  "language_info": {
   "codemirror_mode": {
    "name": "ipython",
    "version": 3
   },
   "file_extension": ".py",
   "mimetype": "text/x-python",
   "name": "python",
   "nbconvert_exporter": "python",
   "pygments_lexer": "ipython3",
   "version": "3.7.12"
  },
  "orig_nbformat": 4,
  "vscode": {
   "interpreter": {
    "hash": "57d76fe05cb7c37a863d6372044d97df71b0a64adb22d17c6b0cbfe5bbdb8127"
   }
  }
 },
 "nbformat": 4,
 "nbformat_minor": 2
}
