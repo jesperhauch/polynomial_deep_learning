{
 "cells": [
  {
   "cell_type": "code",
   "execution_count": 24,
   "metadata": {},
   "outputs": [
    {
     "name": "stdout",
     "output_type": "stream",
     "text": [
      "{'images': [], 'audio': [], 'histograms': [], 'scalars': ['hp_metric', 'train_loss_step', 'epoch', 'val_loss', 'val_r2', 'train_loss_epoch'], 'distributions': [], 'tensors': [], 'graph': False, 'meta_graph': False, 'run_metadata': []}\n"
     ]
    }
   ],
   "source": [
    "from tensorboard.backend.event_processing.event_accumulator import EventAccumulator\n",
    "log_file = r'tb_logs\\a\\CCP\\normal(0,5)\\events.out.tfevents.1679904049.JesperPC.8972.0'\n",
    "event_acc = EventAccumulator(log_file)\n",
    "event_acc.Reload()\n",
    "print(event_acc.Tags())"
   ]
  },
  {
   "cell_type": "code",
   "execution_count": 27,
   "metadata": {},
   "outputs": [
    {
     "name": "stdout",
     "output_type": "stream",
     "text": [
      "63 0.9984329342842102\n",
      "127 0.9992251396179199\n",
      "191 0.9996752142906189\n",
      "255 0.9998819231987\n",
      "319 0.9999644160270691\n",
      "383 0.9999908208847046\n",
      "447 0.9999979138374329\n",
      "511 0.9999995827674866\n",
      "575 0.9999999403953552\n",
      "639 1.0\n",
      "703 1.0\n",
      "767 1.0\n",
      "831 1.0\n",
      "895 1.0\n",
      "959 1.0\n",
      "1023 1.0\n",
      "1087 1.0\n",
      "1151 1.0\n",
      "1215 1.0\n",
      "1279 1.0\n",
      "1343 1.0\n",
      "1407 1.0\n",
      "1471 1.0\n",
      "1535 1.0\n",
      "1599 1.0\n",
      "1663 1.0\n",
      "1727 1.0\n",
      "1791 1.0\n",
      "1855 1.0\n",
      "1919 1.0\n"
     ]
    }
   ],
   "source": [
    "for e in event_acc.Scalars('val_r2'):\n",
    "    print(e.step, e.value)"
   ]
  },
  {
   "cell_type": "code",
   "execution_count": 27,
   "metadata": {},
   "outputs": [],
   "source": [
    "import tensorboard as tb"
   ]
  },
  {
   "cell_type": "code",
   "execution_count": 29,
   "metadata": {},
   "outputs": [],
   "source": [
    "experiment = tb.data.experimental.ExperimentFromDev(log_file2)"
   ]
  },
  {
   "cell_type": "code",
   "execution_count": 32,
   "metadata": {},
   "outputs": [
    {
     "ename": "_MultiThreadedRendezvous",
     "evalue": "<_MultiThreadedRendezvous of RPC that terminated with:\n\tstatus = StatusCode.INTERNAL\n\tdetails = \"Internal error. Please report this and specify reference code f1e44aad-e9e7-4b21-996c-952ed71a22cf.\"\n\tdebug_error_string = \"UNKNOWN:Error received from peer  {created_time:\"2023-05-08T15:25:39.744969422+00:00\", grpc_status:13, grpc_message:\"Internal error. Please report this and specify reference code f1e44aad-e9e7-4b21-996c-952ed71a22cf.\"}\"\n>",
     "output_type": "error",
     "traceback": [
      "\u001b[1;31m---------------------------------------------------------------------------\u001b[0m",
      "\u001b[1;31m_MultiThreadedRendezvous\u001b[0m                  Traceback (most recent call last)",
      "Cell \u001b[1;32mIn[32], line 1\u001b[0m\n\u001b[1;32m----> 1\u001b[0m experiment\u001b[39m.\u001b[39;49mget_scalars()\n",
      "File \u001b[1;32mc:\\Users\\Bruger\\miniconda3\\envs\\tf-env\\lib\\site-packages\\tensorboard\\data\\experimental\\experiment_from_dev.py:102\u001b[0m, in \u001b[0;36mExperimentFromDev.get_scalars\u001b[1;34m(self, runs_filter, tags_filter, pivot, include_wall_time)\u001b[0m\n\u001b[0;32m    100\u001b[0m wall_times \u001b[39m=\u001b[39m []\n\u001b[0;32m    101\u001b[0m values \u001b[39m=\u001b[39m []\n\u001b[1;32m--> 102\u001b[0m \u001b[39mfor\u001b[39;00m response \u001b[39min\u001b[39;00m stream:\n\u001b[0;32m    103\u001b[0m     \u001b[39m# TODO(cais, wchargin): Display progress bar during data loading.\u001b[39;00m\n\u001b[0;32m    104\u001b[0m     num_values \u001b[39m=\u001b[39m \u001b[39mlen\u001b[39m(response\u001b[39m.\u001b[39mpoints\u001b[39m.\u001b[39mvalues)\n\u001b[0;32m    105\u001b[0m     runs\u001b[39m.\u001b[39mextend([response\u001b[39m.\u001b[39mrun_name] \u001b[39m*\u001b[39m num_values)\n",
      "File \u001b[1;32mc:\\Users\\Bruger\\miniconda3\\envs\\tf-env\\lib\\site-packages\\grpc\\_channel.py:475\u001b[0m, in \u001b[0;36m_Rendezvous.__next__\u001b[1;34m(self)\u001b[0m\n\u001b[0;32m    474\u001b[0m \u001b[39mdef\u001b[39;00m \u001b[39m__next__\u001b[39m(\u001b[39mself\u001b[39m):\n\u001b[1;32m--> 475\u001b[0m     \u001b[39mreturn\u001b[39;00m \u001b[39mself\u001b[39;49m\u001b[39m.\u001b[39;49m_next()\n",
      "File \u001b[1;32mc:\\Users\\Bruger\\miniconda3\\envs\\tf-env\\lib\\site-packages\\grpc\\_channel.py:881\u001b[0m, in \u001b[0;36m_MultiThreadedRendezvous._next\u001b[1;34m(self)\u001b[0m\n\u001b[0;32m    879\u001b[0m     \u001b[39mraise\u001b[39;00m \u001b[39mStopIteration\u001b[39;00m()\n\u001b[0;32m    880\u001b[0m \u001b[39melif\u001b[39;00m \u001b[39mself\u001b[39m\u001b[39m.\u001b[39m_state\u001b[39m.\u001b[39mcode \u001b[39mis\u001b[39;00m \u001b[39mnot\u001b[39;00m \u001b[39mNone\u001b[39;00m:\n\u001b[1;32m--> 881\u001b[0m     \u001b[39mraise\u001b[39;00m \u001b[39mself\u001b[39m\n",
      "\u001b[1;31m_MultiThreadedRendezvous\u001b[0m: <_MultiThreadedRendezvous of RPC that terminated with:\n\tstatus = StatusCode.INTERNAL\n\tdetails = \"Internal error. Please report this and specify reference code f1e44aad-e9e7-4b21-996c-952ed71a22cf.\"\n\tdebug_error_string = \"UNKNOWN:Error received from peer  {created_time:\"2023-05-08T15:25:39.744969422+00:00\", grpc_status:13, grpc_message:\"Internal error. Please report this and specify reference code f1e44aad-e9e7-4b21-996c-952ed71a22cf.\"}\"\n>"
     ]
    }
   ],
   "source": [
    "experiment.get_scalars()"
   ]
  },
  {
   "cell_type": "code",
   "execution_count": 11,
   "metadata": {},
   "outputs": [
    {
     "data": {
      "text/plain": [
       "[]"
      ]
     },
     "execution_count": 11,
     "metadata": {},
     "output_type": "execute_result"
    }
   ],
   "source": [
    "summary.summary.value"
   ]
  },
  {
   "cell_type": "code",
   "execution_count": null,
   "metadata": {},
   "outputs": [],
   "source": []
  }
 ],
 "metadata": {
  "kernelspec": {
   "display_name": "poly-dl",
   "language": "python",
   "name": "python3"
  },
  "language_info": {
   "codemirror_mode": {
    "name": "ipython",
    "version": 3
   },
   "file_extension": ".py",
   "mimetype": "text/x-python",
   "name": "python",
   "nbconvert_exporter": "python",
   "pygments_lexer": "ipython3",
   "version": "3.10.10"
  },
  "orig_nbformat": 4
 },
 "nbformat": 4,
 "nbformat_minor": 2
}
